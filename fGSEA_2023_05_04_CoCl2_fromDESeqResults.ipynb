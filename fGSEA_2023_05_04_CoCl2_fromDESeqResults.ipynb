{
 "cells": [
  {
   "cell_type": "code",
   "execution_count": null,
   "metadata": {},
   "outputs": [],
   "source": [
    "suppressPackageStartupMessages({\n",
    "    library(fgsea)\n",
    "    library(data.table)\n",
    "    library(ggplot2)\n",
    "    library(factoextra)\n",
    "    library(tidyverse)\n",
    "    library(grid)\n",
    "    library(shadowtext)\n",
    "    library(gridExtra)\n",
    "    library(lattice)\n",
    "    library(tictoc)\n",
    "    \n",
    "    \n",
    "    \n",
    "    # maybe still needs:\n",
    "    library(readr)\n",
    "    library(scales)\n",
    "    library(RColorBrewer)\n",
    "    library(stringr)\n",
    "    library(matrixStats)\n",
    "    library(pheatmap)\n",
    "    library(dplyr)\n",
    "    library(ggrepel)\n",
    "    library(Matrix)\n",
    "    library(cowplot)\n",
    "    library(tidyr)\n",
    "    \n",
    "    \n",
    "    \n",
    "    # probably doesn't need:\n",
    "    # library(hrbrthemes)\n",
    "    # library(tm)\n",
    "    # library(proustr)\n",
    "    # library(AnnotationHub)\n",
    "#     library(forcats)\n",
    "#     library(goseq)\n",
    "    #     library(VennDiagram)\n",
    "#     library(geneLenDataBase)\n",
    "#     library(clusterProfiler))\n",
    "#     library(enrichplot)\n",
    "#     library(DOSE)\n",
    "#     library(org.Hs.eg.db)\n",
    "#     library(ggpubr)\n",
    "#     library(scater)\n",
    "#     library(future)\n",
    "#     library(ggthemes)\n",
    "#     library(patchwork)\n",
    "#     library(Seurat)\n",
    "#     library(limma)\n",
    "#      library(Signac)\n",
    "#     library(DESeq2)\n",
    "#     library(EnsDb.Hsapiens.v86)\n",
    "#     library(tximport)\n",
    "# library(TxDb.Hsapiens.UCSC.hg38.knownGene)\n",
    "# library(tidyverse)    \n",
    "})\n",
    "set.seed(42)"
   ]
  },
  {
   "cell_type": "markdown",
   "metadata": {},
   "source": [
    "# Input Files:"
   ]
  },
  {
   "cell_type": "code",
   "execution_count": null,
   "metadata": {},
   "outputs": [],
   "source": [
    "NUM_PATHWAYS_TO_PLOT = 20 # number of pathways to plot for each up or down "
   ]
  },
  {
   "cell_type": "markdown",
   "metadata": {},
   "source": [
    "#### Gene Set List"
   ]
  },
  {
   "cell_type": "code",
   "execution_count": null,
   "metadata": {},
   "outputs": [],
   "source": [
    "pathwaysList = c('KEGG', 'GOMF', 'GOBP', 'GOCC', 'GO', 'REACTOME', 'ALL_PATHWAYS', 'HALLMARK_GENES')"
   ]
  },
  {
   "cell_type": "markdown",
   "metadata": {},
   "source": [
    "#### Gene List Files:"
   ]
  },
  {
   "cell_type": "code",
   "execution_count": null,
   "metadata": {},
   "outputs": [],
   "source": [
    "gene_list_files_dir = '/nfs/lab/relgamal/MAGMA/'\n",
    "go_file <- paste0(gene_list_files_dir, 'c5.go.v2023.1.Hs.symbols.gmt')\n",
    "go_mf_file <- paste0(gene_list_files_dir, 'c5.go.mf.v2023.1.Hs.symbols.gmt.txt')\n",
    "go_bp_file <- paste0(gene_list_files_dir, 'c5.go.bp.v2023.1.Hs.symbols.gmt.txt')\n",
    "go_cc_file <- paste0(gene_list_files_dir, 'c5.go.cc.v2023.1.Hs.symbols.gmt.txt')\n",
    "kegg_file <- paste0(gene_list_files_dir, 'c2.cp.kegg.v2023.1.Hs.symbols.gmt')\n",
    "reactome_file <- paste0(gene_list_files_dir, 'c2.cp.reactome.v2023.1.Hs.symbols.gmt')\n",
    "hallmark_genes_file <- paste0(gene_list_files_dir, 'h.all.v2023.1.Hs.symbols.gmt.txt')\n",
    "\n",
    "\n",
    "ribosomeProteinListFile_1 <- '/nfs/lab/relgamal/MAGMA/group-646.csv'\n",
    "ribosomeProteinListFile_2 <- '/nfs/lab/relgamal/MAGMA/group-728.csv'\n",
    "mitoProteinListFile <- '/nfs/lab/relgamal/MAGMA/group-729.csv'\n",
    "\n"
   ]
  },
  {
   "cell_type": "markdown",
   "metadata": {},
   "source": [
    "#### Celltypes\n"
   ]
  },
  {
   "cell_type": "code",
   "execution_count": null,
   "metadata": {},
   "outputs": [],
   "source": [
    "\n",
    "celltypes_noEndoC = c('acinar', 'all_pseudobulk' , 'alpha' , 'alpha_1' , 'alpha_2' , 'alpha_3' , 'alpha_4' , \n",
    "              'beta' , 'beta_1' , 'beta_2' , 'bulk38' , 'delta' , 'ductal' , 'gamma' , 'stellate')\n",
    "\n",
    "celltypes = c(celltypes_noEndoC, 'endoC_treatment_time_24', 'endoC_treatment_time_72', 'endoC_timeTreatmentBase_withTimeCoV' )\n"
   ]
  },
  {
   "cell_type": "markdown",
   "metadata": {},
   "source": [
    "#### Input Files"
   ]
  },
  {
   "cell_type": "code",
   "execution_count": null,
   "metadata": {},
   "outputs": [],
   "source": [
    "\n",
    "indir_allCelltypes =  '/nfs/lab/projects/islet_multiomics_stress_CoCl2/pipeline/DESeq/output_files/'\n",
    "fileSuffix = '.allGenesIncNonSig.DESeqResults.design_Donor_Treatment.CoCl2.fittype_Local.alpha_0.05.txt'\n",
    "\n",
    "inputfilenames <- list()\n",
    "\n",
    "for (celltype1 in celltypes_noEndoC){\n",
    "    inputfilenames[[celltype1]] = paste0(indir_allCelltypes, celltype1, fileSuffix)\n",
    "#     print(paste(celltype1, inputfilenames[[celltype1]]))\n",
    "}\n",
    "\n",
    "\n",
    "\n",
    "inputfilenames[['endoC_treatment_time_24']] = paste0(indir_allCelltypes, \n",
    "                                      'endoC_treatment_time_24.allGenesIncNonSig.DESeqResults.design_Donor_CoCl2_24.CoCl2.fittype_Local.alpha_0.05.txt')\n",
    "inputfilenames[['endoC_timeTreatmentBase_withTimeCoV']] = paste0(indir_allCelltypes, \n",
    "                                      'endoC_timeTreatmentBase_withTimeCoV.allGenesIncNonSig.DESeqResults.design_Donor_TimeAsCov_Treatment.CoCl2.fittype_Local.alpha_0.05.txt')\n",
    "inputfilenames[['endoC_treatment_time_72']] = paste0(indir_allCelltypes, \n",
    "                                      'endoC_treatment_time_72.allGenesIncNonSig.DESeqResults.design_Donor_CoCl2_72.CoCl2.fittype_Local.alpha_0.05.txt')\n",
    "\n"
   ]
  },
  {
   "cell_type": "markdown",
   "metadata": {},
   "source": [
    "#### Output Dir "
   ]
  },
  {
   "cell_type": "code",
   "execution_count": null,
   "metadata": {},
   "outputs": [],
   "source": [
    "out_dir = '/nfs/lab/projects/islet_multiomics_stress_CoCl2/pipeline/GSEA/'"
   ]
  },
  {
   "cell_type": "markdown",
   "metadata": {},
   "source": [
    "# Read in Pathways, etc "
   ]
  },
  {
   "cell_type": "code",
   "execution_count": null,
   "metadata": {},
   "outputs": [],
   "source": [
    "tic()\n",
    "go <- gmtPathways(go_file)\n",
    "go_mf <- gmtPathways(go_mf_file)\n",
    "go_bp <- gmtPathways(go_bp_file)\n",
    "go_cc <- gmtPathways(go_cc_file)\n",
    "kegg <- gmtPathways(kegg_file)\n",
    "reactome <- gmtPathways(reactome_file)\n",
    "hallmark_genes <-  gmtPathways(hallmark_genes_file)\n",
    "\n",
    "pathways <- c(go, kegg, reactome)\n",
    "pathways2 <- c(go_bp,kegg,reactome)\n",
    "all_go <- c(go_mf, go_bp, go_cc)\n",
    "all_pathways <- c(go_mf, go_bp, go_cc, kegg, reactome, hallmark_genes)\n",
    "toc()\n",
    "\n",
    "\n",
    "pathways_Obj_List = list()\n",
    "pathways_Obj_List[['GO']] = go\n",
    "pathways_Obj_List[['GOMF']] = go_mf\n",
    "pathways_Obj_List[['GOBP']] = go_bp\n",
    "pathways_Obj_List[['GOCC']] = go_cc\n",
    "pathways_Obj_List[['KEGG']] = kegg\n",
    "pathways_Obj_List[['REACTOME']] = reactome\n",
    "pathways_Obj_List[['ALL_PATHWAYS']] = all_pathways\n",
    "pathways_Obj_List[['HALLMARK_GENES']] = hallmark_genes\n"
   ]
  },
  {
   "cell_type": "code",
   "execution_count": null,
   "metadata": {},
   "outputs": [],
   "source": [
    "\n",
    "rpl <- fread(ribosomeProteinListFile_1, fill=TRUE, header=TRUE)\n",
    "rps <- fread(ribosomeProteinListFile_2, fill=TRUE, header=TRUE)\n",
    "mtr <- fread(mitoProteinListFile, fill=TRUE, header=TRUE)\n",
    "\n",
    "ribo_proteins <- c(rpl$V2, rps$V2, mtr$V2)\n",
    "ribo_proteins <- ribo_proteins[which(ribo_proteins != 'Approved symbol')]"
   ]
  },
  {
   "cell_type": "markdown",
   "metadata": {},
   "source": [
    "# Read in DESeq Results"
   ]
  },
  {
   "cell_type": "markdown",
   "metadata": {},
   "source": [
    "#### Set up List of Lists for whole notebook"
   ]
  },
  {
   "cell_type": "code",
   "execution_count": null,
   "metadata": {},
   "outputs": [],
   "source": [
    "# List of List Structure:\n",
    "# celltype    \n",
    "    # DESeq results = 'DEGs'\n",
    "    # DESes results, no Ribosome Genes = 'DEGs_noRib'\n",
    "    # Gene Ranks = 'Ranks'\n",
    "    #  pathway type  \n",
    "            # GSEA results = 'Results'\n",
    "            # top up = 'TopUp'\n",
    "            # top down = 'TopDown'\n",
    "    \n",
    "resultsListOfLists = list()\n",
    "for (celltype1 in celltypes){\n",
    "#     print(celltype1)\n",
    "    resultsListOfLists[[celltype1]] = list()\n",
    "    resultsListOfLists[[celltype1]][['KEGG']] = list()\n",
    "    resultsListOfLists[[celltype1]][['GOMF']] = list()\n",
    "    resultsListOfLists[[celltype1]][['GOBP']] = list()\n",
    "    resultsListOfLists[[celltype1]][['GOCC']] = list()\n",
    "    resultsListOfLists[[celltype1]][['GO']] = list()\n",
    "    resultsListOfLists[[celltype1]][['REACTOME']] = list()\n",
    "    resultsListOfLists[[celltype1]][['ALL_PATHWAYS']] = list()\n",
    "        resultsListOfLists[[celltype1]][['HALLMARK_GENES']] = list()\n",
    "}"
   ]
  },
  {
   "cell_type": "markdown",
   "metadata": {},
   "source": [
    "##### Read in Deseq results"
   ]
  },
  {
   "cell_type": "code",
   "execution_count": null,
   "metadata": {},
   "outputs": [],
   "source": [
    "tic()\n",
    "\n",
    "for (celltype1 in celltypes_noEndoC){\n",
    "    # DESeq_Cell/Treatment.CoCl2.acinarfittypeLocal.cocl2.txt\n",
    "#     print(celltype1)\n",
    "    prefix = paste0(indir_allCelltypes)\n",
    "    celltypefile = paste0(indir_allCelltypes, celltype1, fileSuffix)\n",
    "    resultsListOfLists[[celltype1]][['DEGs']] = read.table(inputfilenames[[celltype1]])\n",
    "}\n",
    "\n",
    "resultsListOfLists[['endoC_treatment_time_24']][['DEGs']] = read.table(inputfilenames[['endoC_treatment_time_24']] )\n",
    "resultsListOfLists[['endoC_timeTreatmentBase_withTimeCoV']][['DEGs']] = read.table(inputfilenames[['endoC_timeTreatmentBase_withTimeCoV']])\n",
    "resultsListOfLists[['endoC_treatment_time_72']][['DEGs']] = read.table(inputfilenames[['endoC_treatment_time_72']])\n",
    "\n",
    "toc()"
   ]
  },
  {
   "cell_type": "markdown",
   "metadata": {},
   "source": [
    "#### Filter out ribosomal genes"
   ]
  },
  {
   "cell_type": "code",
   "execution_count": null,
   "metadata": {},
   "outputs": [],
   "source": [
    "for (celltype1 in celltypes){\n",
    "    degs <- resultsListOfLists[[celltype1]][['DEGs']]\n",
    "    degs <- degs[which(!rownames(degs) %in% ribo_proteins),] \n",
    "    resultsListOfLists[[celltype1]][['DEGs_noRib']]  <- degs\n",
    "}\n"
   ]
  },
  {
   "cell_type": "markdown",
   "metadata": {},
   "source": [
    "#### Make Ranks Table"
   ]
  },
  {
   "cell_type": "code",
   "execution_count": null,
   "metadata": {},
   "outputs": [],
   "source": [
    "get_DEG_rank_Table <- function (degsA){\n",
    "    degs_rankA <- -log10(degsA$pvalue) * sign(degsA$log2FoldChange)\n",
    "    names(degs_rankA) <- rownames(degsA)\n",
    "    return (degs_rankA)\n",
    "}\n",
    "\n",
    "for (celltype1 in celltypes){\n",
    "     resultsListOfLists[[celltype1]][['Ranks']] <- get_DEG_rank_Table (resultsListOfLists[[celltype1]][['DEGs_noRib']])\n",
    "}"
   ]
  },
  {
   "cell_type": "markdown",
   "metadata": {},
   "source": [
    "# Run GSEA"
   ]
  },
  {
   "cell_type": "markdown",
   "metadata": {},
   "source": [
    "#### Functions"
   ]
  },
  {
   "cell_type": "code",
   "execution_count": null,
   "metadata": {},
   "outputs": [],
   "source": [
    "\n",
    "get_GSEA_Results <- function (ranks, pathwaysListA){\n",
    "    res <- fgsea(pathways = pathwaysListA, \n",
    "                  stats    = ranks,\n",
    "                  #nPermSimple = 100000,\n",
    "                  eps      = 0.0,\n",
    "                  minSize  = 0,\n",
    "                  maxSize  = 999)\n",
    "    return (res)\n",
    "}\n",
    "\n",
    "\n",
    "\n",
    "\n",
    "processUpDownTable <- function (tableA1, sizeCutoff){\n",
    "    \n",
    "    tableA1 <- tableA1[which(tableA1$size <= sizeCutoff),]\n",
    "    tableA1 <- tableA1[order(tableA1$pval),]\n",
    "    tableA1 <- tableA1[1:NUM_PATHWAYS_TO_PLOT,]\n",
    "    tableA1$LOG10P <- -log10(tableA1$pval)\n",
    "    tableA1$pathway <- factor(tableA1$pathway, levels= tableA1$pathway)\n",
    "    tableA1$pathway <- fct_rev(tableA1$pathway)\n",
    "    return(tableA1)\n",
    "}\n",
    "\n",
    "\n",
    "filter_GSEA_Results <- function (res, sizeCutoff){\n",
    "    resList = list()\n",
    "    resUp <- res[which(res$ES > 0),]\n",
    "    resDown <- res[which(res$ES < 0),]\n",
    "    resList[['topUp']] = processUpDownTable(resUp, sizeCutoff)\n",
    "    resList[['topDown']] = processUpDownTable(resDown, sizeCutoff)\n",
    "    \n",
    "    \n",
    "    return(resList)\n",
    "}\n",
    "\n",
    "\n",
    "filter_GSEA_Results_v2 <- function (res, sizeCutoff){\n",
    "    resList = list()\n",
    "    resUp <- res[which(res$NES > 0),]\n",
    "    resDown <- res[which(res$NES < 0),]\n",
    "    resUp <- resUp[order(resUp$padj),]\n",
    "    resDown <- resDown[order(resDown$padj),]\n",
    "    resList[['topUp']] = processUpDownTable(resUp, sizeCutoff)\n",
    "    resList[['topDown']] = processUpDownTable(resDown, sizeCutoff)\n",
    "    \n",
    "    \n",
    "    return(resList)\n",
    "}\n"
   ]
  },
  {
   "cell_type": "markdown",
   "metadata": {},
   "source": [
    "## Get GSEA Results - non-EndoC"
   ]
  },
  {
   "cell_type": "code",
   "execution_count": null,
   "metadata": {},
   "outputs": [],
   "source": [
    "# This is shorter than the next cell, but somehow wrong and created a weird atomic vector error when i ran it and had to restart the whole notebook\n",
    "\n",
    "# # go <- gmtPathways('/nfs/lab/relgamal/MAGMA/c5.go.v2023.1.Hs.symbols.gmt')\n",
    "# # go_mf <- gmtPathways('/nfs/lab/relgamal/MAGMA/c5.go.mf.v2023.1.Hs.symbols.gmt.txt')\n",
    "# # go_bp <- gmtPathways('/nfs/lab/relgamal/MAGMA/c5.go.bp.v2023.1.Hs.symbols.gmt.txt')\n",
    "# # go_cc <- gmtPathways('/nfs/lab/relgamal/MAGMA/c5.go.cc.v2023.1.Hs.symbols.gmt.txt')\n",
    "# # kegg <- gmtPathways('/nfs/lab/relgamal/MAGMA/c2.cp.kegg.v2023.1.Hs.symbols.gmt')\n",
    "# # reactome <- gmtPathways('/nfs/lab/relgamal/MAGMA/c2.cp.reactome.v2023.1.Hs.symbols.gmt')\n",
    "# #     resultsListOfLists[[celltype1]][['KEGG']] = list()\n",
    "# #     resultsListOfLists[[celltype1]][['GOMF']] = list()\n",
    "# #     resultsListOfLists[[celltype1]][['GOBP']] = list()\n",
    "# #     resultsListOfLists[[celltype1]][['GOCC']] = list()\n",
    "# #     resultsListOfLists[[celltype1]][['GO']] = list()\n",
    "# #     resultsListOfLists[[celltype1]][['REACTOME']] = list()pathways_Obj_Lists[['ALL_PATHWAYS']] \n",
    "# tic('OVERALL')\n",
    "# for (celltype1 in celltypes_noEndoC){\n",
    "#     print(celltype1)\n",
    "#     degs_rank <- resultsListOfLists[[celltype1]][['Ranks']]\n",
    "#     for (pathway1 in pathwaysList){\n",
    "#         print(paste(celltype1,pathway1))\n",
    "#         pathwayObj <- pathways_Obj_List[[pathway1]]\n",
    "#         print(head(names(pathwayObj)))\n",
    "#         tic(paste(celltype1, ' ', pathway1))\n",
    "#         res <- get_GSEA_Results (degs_rank, pathwayObj )\n",
    "#         resultsListOfLists[[celltype1]][[pathway1]][['results']] <- res\n",
    "#         toc()\n",
    "#     }\n",
    "#     print('\\n')\n",
    "# }\n",
    "# toc()"
   ]
  },
  {
   "cell_type": "code",
   "execution_count": null,
   "metadata": {
    "scrolled": false
   },
   "outputs": [],
   "source": [
    "\n",
    "tic('OVERALL')\n",
    "for (celltype1 in celltypes_noEndoC){\n",
    "    print(celltype1)\n",
    "    degs_rank <- resultsListOfLists[[celltype1]][['Ranks']]\n",
    "    print(head(degs_rank))\n",
    "    ## REACTOME -- reactome\n",
    "    tic(paste(celltype1, ' KEGG'))\n",
    "    res <- get_GSEA_Results (degs_rank, kegg)\n",
    "    resultsListOfLists[[celltype1]][['KEGG']][['results']] <- res\n",
    "    toc()\n",
    "    \n",
    "   \n",
    "    # GO --- go\n",
    "    tic(paste(celltype1, ' GO'))\n",
    "    res <- get_GSEA_Results (degs_rank, go)\n",
    "    resultsListOfLists[[celltype1]][['GO']][['results']] <- res\n",
    "    toc()\n",
    "    \n",
    "    # GOMF -- go_mf\n",
    "    tic(paste(celltype1, ' GOMF'))\n",
    "    res <- get_GSEA_Results (degs_rank, go_mf)\n",
    "    resultsListOfLists[[celltype1]][['GOMF']][['results']] <- res\n",
    "    toc()\n",
    "    \n",
    "    ## GOBP -- go_bp\n",
    "    tic(paste(celltype1, ' GOBP'))\n",
    "    res <- get_GSEA_Results (degs_rank, go_bp)\n",
    "    resultsListOfLists[[celltype1]][['GOBP']][['results']] <- res\n",
    "    toc()\n",
    "    \n",
    "     ## GOCC -- go_cc\n",
    "    tic(paste(celltype1, ' GOCC'))\n",
    "    res <- get_GSEA_Results (degs_rank, go_cc)\n",
    "    resultsListOfLists[[celltype1]][['GOCC']][['results']] <- res\n",
    "    toc()\n",
    "    \n",
    "    ## REACTOME -- reactome\n",
    "    tic(paste(celltype1, ' REACTOME'))\n",
    "    res <- get_GSEA_Results (degs_rank, reactome)\n",
    "    resultsListOfLists[[celltype1]][['REACTOME']][['results']] <- res\n",
    "    toc()\n",
    "    \n",
    "    \n",
    "    ## REACTOME -- reactome\n",
    "    tic(paste(celltype1, ' ALL_PATHWAYS'))\n",
    "    res <- get_GSEA_Results (degs_rank, all_pathways)\n",
    "    resultsListOfLists[[celltype1]][['ALL_PATHWAYS']][['results']] <- res\n",
    "    toc()\n",
    "    \n",
    "    tic(paste(celltype1, 'HALLMARK_GENES'))\n",
    "    res <- get_GSEA_Results (degs_rank, hallmark_genes)\n",
    "    resultsListOfLists[[celltype1]][['HALLMARK_GENES']][['results']] <- res\n",
    "    toc()\n",
    "    \n",
    "    \n",
    "}\n",
    "toc()"
   ]
  },
  {
   "cell_type": "code",
   "execution_count": null,
   "metadata": {},
   "outputs": [],
   "source": [
    "head(resultsListOfLists[['beta_1']][['KEGG']][['results']])"
   ]
  },
  {
   "cell_type": "markdown",
   "metadata": {},
   "source": [
    "### Write Tables to file"
   ]
  },
  {
   "cell_type": "code",
   "execution_count": null,
   "metadata": {},
   "outputs": [],
   "source": [
    "tic()\n",
    "for (celltype1 in celltypes_noEndoC){\n",
    "    \n",
    "    for (pathwayType in pathwaysList){\n",
    "#         print(celltype1)\n",
    "        res <- resultsListOfLists[[celltype1]][[pathwayType]][['results']]\n",
    "        res$leadingEdge2 <- paste(as.character(res$leadingEdge))\n",
    "        res$leadingEdge2 = gsub('\\\\\"','',res$leadingEdge2)\n",
    "        res$leadingEdge2 = gsub('c\\\\(','',res$leadingEdge2)\n",
    "        res$leadingEdge2 = gsub('\\\\)','',res$leadingEdge2)\n",
    "        res$leadingEdge2 = gsub(' ','',res$leadingEdge2)\n",
    "        res$leadingEdge = NULL\n",
    "#         print(head(res$leadingEdge2))\n",
    "        outfilename = paste0(out_dir, 'GSEA_results_from_fGSEA.', celltype1, '.', pathwayType, '.results.txt' )\n",
    "        \n",
    "        \n",
    "        write.table(res, \n",
    "            file= outfilename, \n",
    "            sep='\\t', quote=FALSE, col.names = NA)\n",
    "        \n",
    "    }\n",
    "}\n",
    "toc()"
   ]
  },
  {
   "cell_type": "code",
   "execution_count": null,
   "metadata": {},
   "outputs": [],
   "source": [
    "# head(kegg)"
   ]
  },
  {
   "cell_type": "markdown",
   "metadata": {},
   "source": [
    "### Filter Results Tables"
   ]
  },
  {
   "cell_type": "code",
   "execution_count": null,
   "metadata": {},
   "outputs": [],
   "source": [
    "sizeCutoff1 = 500\n",
    "tic()\n",
    "for (celltype1 in celltypes_noEndoC){\n",
    "    \n",
    "    for (pathwayType in pathwaysList){\n",
    "#         print(celltype1)\n",
    "        res <- resultsListOfLists[[celltype1]][[pathwayType]][['results']]\n",
    "        resList1 <- filter_GSEA_Results (res, sizeCutoff1)\n",
    "        resultsListOfLists[[celltype1]][[pathwayType]][['TopUp']] =  resList1[['topUp']] \n",
    "        resultsListOfLists[[celltype1]][[pathwayType]][['TopDown']] =  resList1[['topDown']] \n",
    "    }\n",
    "}\n",
    "toc()"
   ]
  },
  {
   "cell_type": "markdown",
   "metadata": {},
   "source": [
    "# Re-label Pathways"
   ]
  },
  {
   "cell_type": "markdown",
   "metadata": {},
   "source": [
    "#### relabel functions"
   ]
  },
  {
   "cell_type": "code",
   "execution_count": null,
   "metadata": {},
   "outputs": [],
   "source": [
    "fixLabel <- function(nameB, pathwayNameB){\n",
    "    path1B <- paste0(pathwayNameB, '_')\n",
    "    newNameB = nameB\n",
    "    newNameB = gsub(path1B, '', newNameB)\n",
    "    newNameB = gsub('_', ' ', newNameB)\n",
    "    newNameB = str_to_title(newNameB) \n",
    "    return (newNameB)\n",
    "}\n",
    "\n",
    "fixLabel_EndParens <- function(nameB, path1B, suffixReplaceB){\n",
    "    newNameB = nameB\n",
    "    newNameB = gsub(path1B, '', newNameB)\n",
    "    newNameB = gsub('_', ' ', newNameB)\n",
    "    newNameB = str_to_title(newNameB) \n",
    "    newNameB = paste0(newNameB, suffixReplaceB)\n",
    "    return (newNameB)\n",
    "}\n",
    "\n",
    "\n",
    "\n",
    "makeFixLabelList_NoEndParens <- function(pathwayNameA, pathA){\n",
    "    relabellistA <- list()\n",
    "    go_namesA <- names(pathA)\n",
    "    for (name1A in go_namesA){\n",
    "        relabellistA[[name1A]] = fixLabel(name1A, pathwayNameA)\n",
    "    }\n",
    "    return(relabellistA)\n",
    "}\n",
    "\n",
    "\n",
    "makeFixLabelList_EndParens <- function(pathA){\n",
    "    pathwayReplaceNameListA = c('GOBP_', 'GOMF_', 'GOCC_', 'KEGG_', 'REACTOME_', 'HALLMARK_')\n",
    "    suffixReplaceList = list()\n",
    "    suffixReplaceList[['GOBP_']] = ' (GO BP)'\n",
    "    suffixReplaceList[['GOMF_']] = ' (GO MF)'\n",
    "    suffixReplaceList[['GOCC_']] = ' (GO CC)'\n",
    "    suffixReplaceList[['KEGG_']] = ' (KEGG)'\n",
    "    suffixReplaceList[['REACTOME_']] = ' (REACTOME)'\n",
    "    suffixReplaceList[['HALLMARK_']] = ' (Hallmark Gene Set)'\n",
    "    \n",
    "    relabellistA <- list()\n",
    "    go_namesA <- names(pathA)\n",
    "    for (name1A in go_namesA){\n",
    "        newName1A = name1A\n",
    "        for (pathReplaceA in pathwayReplaceNameListA){\n",
    "            replaceSuffix = suffixReplaceList[[pathReplaceA]]\n",
    "            if(startsWith(newName1A, pathReplaceA)   ){\n",
    "               relabellistA[[name1A]] <- fixLabel_EndParens(newName1A, pathReplaceA, suffixReplaceList[[pathReplaceA]])\n",
    "            }\n",
    "        }\n",
    "    }\n",
    "    return(relabellistA)\n",
    "}\n",
    "\n",
    "\n",
    "fixTable_MakeLabelColumn <- function(tableA, replaceDFP1){\n",
    "    \n",
    "    # direct list lookup to list to column: 2.618 sec elapsed\n",
    "    # check match, lookup list: 22.312 sec elapsed\n",
    "    # match between dfs: 0.026 sec elapsed\n",
    "\n",
    "    # tests for how long the relabelling takes:\n",
    "\n",
    "    # 1. direct list lookup to list to column\n",
    "    # res1xxxx = resultsListOfLists[['beta_1']][['ALL_PATHWAYS']][['results']]\n",
    "    # replaceListPxxxxxx = pathwayRelabelLists[['ALL_PATHWAYS']] \n",
    "    # namesXXXXX <-  as.character(unlist(as.list(res1xxxx$pathway)))\n",
    "\n",
    "    # tic('direct list lookup to list to column')\n",
    "    # labs1xxxx <- list()\n",
    "    # for (p in namesXXXXX){\n",
    "    #     pReplacexxxx = replaceListPxxxxxx[[p]]\n",
    "    #     if (length(pReplacexxxx) == 0){\n",
    "    #         pReplacexxxx = p\n",
    "    #     }\n",
    "    #      labs1xxxx = append(labs1xxxx, pReplacexxxx)\n",
    "    # }\n",
    "    # res1xxxx$labelA <- labs1xxxx\n",
    "    # toc()\n",
    "\n",
    "\n",
    "\n",
    "\n",
    "    # 1. check match, lookup list\n",
    "    # tic('check match, lookup list')\n",
    "    # labs1xxxx <- list()\n",
    "    # labs1 <- list()\n",
    "    # for (p in namesXXXXX){\n",
    "    #     pReplacexxxx = p\n",
    "    #     for (l in names(replaceListPxxxxxx)){\n",
    "    #          if ((p == l)){\n",
    "    #              pReplacexxxx = replaceListPxxxxxx[[l]]\n",
    "\n",
    "    #          }\n",
    "    #     }\n",
    "    #      labs1xxxx = append(labs1xxxx, pReplacexxxx)\n",
    "    # }\n",
    "    # res1xxxx$labelB <- labs1xxxx\n",
    "    # toc()\n",
    "\n",
    "\n",
    "    # # 3. match between dfs\n",
    "    # tic('match between dfs')\n",
    "    # replaceDF <- stack(replaceListPxxxxxx)\n",
    "    # colnames(replaceDF) <- c('newLabel', 'origPathway')         \n",
    "    # # replaceDF$origPathway <- as.character(replaceDF$origPathway)\n",
    "    # # head(replaceDF)\n",
    "    # res1xxxx$labelC <- replaceDF$newLabel[match(res1xxxx$pathway, replaceDF$origPathway)]\n",
    "    # toc()\n",
    "    # # head(res1xxxx,2)\n",
    "\n",
    "    \n",
    "    tableA$label2 <- replaceDFP1$newLabel[match(tableA$pathway, replaceDFP1$origPathway)]\n",
    "    return (tableA)\n",
    "}"
   ]
  },
  {
   "cell_type": "markdown",
   "metadata": {},
   "source": [
    "#### make relabel lists"
   ]
  },
  {
   "cell_type": "code",
   "execution_count": null,
   "metadata": {},
   "outputs": [],
   "source": [
    "tic()\n",
    "pathwayRelabelLists = list()\n",
    "# KEGG\n",
    "pathwayRelabelLists[['KEGG']] <- makeFixLabelList_NoEndParens('KEGG', pathways_Obj_List[['KEGG']])\n",
    "# GOMF\n",
    "pathwayRelabelLists[['GOMF']] <- makeFixLabelList_NoEndParens('GOMF', pathways_Obj_List[['GOMF']])\n",
    "# GOBP\n",
    "pathwayRelabelLists[['GOBP']] <- makeFixLabelList_NoEndParens('GOBP', pathways_Obj_List[['GOBP']])\n",
    "# GOCC\n",
    "pathwayRelabelLists[['GOCC']] <- makeFixLabelList_NoEndParens('GOCC', pathways_Obj_List[['GOCC']])\n",
    "# REACTOME\n",
    "pathwayRelabelLists[['REACTOME']] <- makeFixLabelList_NoEndParens('REACTOME', pathways_Obj_List[['REACTOME']])\n",
    "# GO\n",
    "pathwayRelabelLists[['GO']]  <- makeFixLabelList_EndParens(pathways_Obj_List[['GO']])\n",
    "# ALL_PATHWAYS\n",
    "pathwayRelabelLists[['ALL_PATHWAYS']]  <- makeFixLabelList_EndParens(pathways_Obj_List[['ALL_PATHWAYS']])\n",
    "# hallmark\n",
    "pathwayRelabelLists[['HALLMARK_GENES']]  <- makeFixLabelList_EndParens(pathways_Obj_List[['HALLMARK_GENES']])\n",
    "toc()\n"
   ]
  },
  {
   "cell_type": "code",
   "execution_count": null,
   "metadata": {},
   "outputs": [],
   "source": []
  },
  {
   "cell_type": "markdown",
   "metadata": {},
   "source": [
    "#### Make DFs of pathway re-label lists"
   ]
  },
  {
   "cell_type": "code",
   "execution_count": null,
   "metadata": {},
   "outputs": [],
   "source": [
    "pathway_relabel_dfs_list = list()\n",
    "tic()\n",
    "for (pathwayType in pathwaysList){\n",
    "    pathwayRelabelOb <- pathwayRelabelLists[[pathwayType]]\n",
    "     replaceDF <- stack(pathwayRelabelOb)\n",
    "    colnames(replaceDF) <- c('newLabel', 'origPathway')         \n",
    "     pathway_relabel_dfs_list[[pathwayType]] <- replaceDF\n",
    "}\n",
    "toc()"
   ]
  },
  {
   "cell_type": "markdown",
   "metadata": {},
   "source": [
    "##### relabel"
   ]
  },
  {
   "cell_type": "code",
   "execution_count": null,
   "metadata": {},
   "outputs": [],
   "source": [
    "# bloop = c('alpha')\n",
    "# blip = c('KEGG')\n",
    "tic()\n",
    "for (celltype1 in celltypes_noEndoC){\n",
    "    \n",
    "    for (pathwayType in pathwaysList){\n",
    "        topUpTable = resultsListOfLists[[celltype1]][[pathwayType]][['TopUp']]\n",
    "        topDownTable = resultsListOfLists[[celltype1]][[pathwayType]][['TopDown']]\n",
    "        replaceDF = pathway_relabel_dfs_list[[pathwayType]] \n",
    "        topUpTable <- fixTable_MakeLabelColumn(topUpTable,   replaceDF)\n",
    "        topDownTable <- fixTable_MakeLabelColumn(topDownTable,  replaceDF)\n",
    "        topUpTable$label <- topUpTable$label2\n",
    "        topDownTable$label <- topDownTable$label2\n",
    "        topUpTable$label2 <- NULL\n",
    "        topDownTable$label2 <- NULL\n",
    "\n",
    "        resultsListOfLists[[celltype1]][[pathwayType]][['TopUp']] <- topUpTable\n",
    "        resultsListOfLists[[celltype1]][[pathwayType]][['TopDown']] <- topDownTable\n",
    "        \n",
    "        \n",
    "    }\n",
    "}\n",
    "toc()"
   ]
  },
  {
   "cell_type": "code",
   "execution_count": null,
   "metadata": {},
   "outputs": [],
   "source": [
    "pathway_relabel_dfs_list[['KEGG']] "
   ]
  },
  {
   "cell_type": "code",
   "execution_count": null,
   "metadata": {},
   "outputs": [],
   "source": [
    "tic()\n",
    "for (celltype1 in celltypes_noEndoC){\n",
    "    for (pathwayType in pathwaysList){\n",
    "#         print(paste(celltype1, pathwayType))\n",
    "        res = resultsListOfLists[[celltype1]][[pathwayType]][['results']]\n",
    "#         print(head(res))\n",
    "        replaceDF = pathway_relabel_dfs_list[[pathwayType]] \n",
    "#         print(head(replaceDF))\n",
    "        res <- fixTable_MakeLabelColumn(res,  replaceDF)\n",
    "        res$label <- res$label2\n",
    "#         print(head(res$label2))\n",
    "        res$label2 <- NULL\n",
    "        resultsListOfLists[[celltype1]][[pathwayType]][['Results_withLabel']] <- res\n",
    "    }\n",
    "}\n",
    "toc()"
   ]
  },
  {
   "cell_type": "markdown",
   "metadata": {},
   "source": [
    "#### Write Results to File\n"
   ]
  },
  {
   "cell_type": "code",
   "execution_count": null,
   "metadata": {},
   "outputs": [],
   "source": [
    "tic()\n",
    "for (celltype1 in celltypes_noEndoC){\n",
    "    \n",
    "    for (pathwayType in pathwaysList){\n",
    "#         print(celltype1)\n",
    "        res <- resultsListOfLists[[celltype1]][[pathwayType]][['Results_withLabel']]\n",
    "        res$leadingEdge2 <- paste(as.character(res$leadingEdge))\n",
    "        res$leadingEdge2 = gsub('\\\\\"','',res$leadingEdge2)\n",
    "        res$leadingEdge2 = gsub('c\\\\(','',res$leadingEdge2)\n",
    "        res$leadingEdge2 = gsub('\\\\)','',res$leadingEdge2)\n",
    "        res$leadingEdge2 = gsub(' ','',res$leadingEdge2)\n",
    "        res$leadingEdge = NULL\n",
    "#         print(head(res$leadingEdge2))\n",
    "        outfilename = paste0(out_dir, 'GSEA_results_from_fGSEA.', celltype1, '.', pathwayType, '.results.withLabel.txt' )\n",
    "        \n",
    "        \n",
    "        write.table(res, \n",
    "            file= outfilename, \n",
    "            sep='\\t', quote=FALSE, col.names = NA)\n",
    "        \n",
    "    }\n",
    "}\n",
    "toc()"
   ]
  },
  {
   "cell_type": "code",
   "execution_count": null,
   "metadata": {},
   "outputs": [],
   "source": [
    "resultsListOfLists[['beta_1']][['HALLMARK_GENES']][['Results_withLabel']]"
   ]
  },
  {
   "cell_type": "markdown",
   "metadata": {},
   "source": [
    "### Write results to rds"
   ]
  },
  {
   "cell_type": "code",
   "execution_count": null,
   "metadata": {},
   "outputs": [],
   "source": [
    "tic()\n",
    "for (celltype1 in celltypes_noEndoC){\n",
    "    \n",
    "    for (pathwayType in pathwaysList){\n",
    "#         print(celltype1)\n",
    "        res <- resultsListOfLists[[celltype1]][[pathwayType]][['Results_withLabel']]\n",
    "#         res$leadingEdge2 <- paste(as.character(res$leadingEdge))\n",
    "#         res$leadingEdge2 = gsub('\\\\\"','',res$leadingEdge2)\n",
    "#         res$leadingEdge2 = gsub('c\\\\(','',res$leadingEdge2)\n",
    "#         res$leadingEdge2 = gsub('\\\\)','',res$leadingEdge2)\n",
    "#         res$leadingEdge2 = gsub(' ','',res$leadingEdge2)\n",
    "#         res$leadingEdge = NULL\n",
    "#         print(head(res$leadingEdge2))\n",
    "        outfilename = paste0(out_dir, 'GSEA_results_from_fGSEA.', celltype1, '.', pathwayType, '.results.withLabel.wGeneLists.rds' )\n",
    "        \n",
    "         saveRDS(res, file=outfilename)\n",
    "        \n",
    "    }\n",
    "}\n",
    "toc()"
   ]
  },
  {
   "cell_type": "code",
   "execution_count": null,
   "metadata": {},
   "outputs": [],
   "source": []
  },
  {
   "cell_type": "code",
   "execution_count": null,
   "metadata": {},
   "outputs": [],
   "source": []
  }
 ],
 "metadata": {
  "kernelspec": {
   "display_name": "R",
   "language": "R",
   "name": "ir"
  },
  "language_info": {
   "codemirror_mode": "r",
   "file_extension": ".r",
   "mimetype": "text/x-r-source",
   "name": "R",
   "pygments_lexer": "r",
   "version": "3.6.0"
  }
 },
 "nbformat": 4,
 "nbformat_minor": 5
}
