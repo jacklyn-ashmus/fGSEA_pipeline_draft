{
 "cells": [
  {
   "cell_type": "code",
   "execution_count": 10,
   "id": "9fd37370",
   "metadata": {},
   "outputs": [],
   "source": [
    "import pandas as pd\n",
    "urlfilename = '/nfs/lab/projects/islet_multiomics_stress_CoCl2/ref/KEGG/download_htext?htext=br08901.keg'\n"
   ]
  },
  {
   "cell_type": "markdown",
   "id": "f9f60c16",
   "metadata": {},
   "source": [
    "# file format \n",
    "+C      Map number\n",
    "#<h2><a href=\"/kegg/brite.html\"><img src=\"/Fig/bget/kegg3.gif\" align=\"middle\" border=0></a>&nbsp; KEGG Pathway Maps</h2>\n",
    "!\n",
    "A<b>Metabolism</b>\n",
    "B  Global and overview maps\n",
    "C    01100  Metabolic pathways\n",
    "C    01110  Biosynthesis of secondary metabolites\n",
    "C    01120  Microbial metabolism in diverse environments\n",
    "C    01200  Car"
   ]
  },
  {
   "cell_type": "code",
   "execution_count": 50,
   "id": "73049a6f",
   "metadata": {},
   "outputs": [],
   "source": [
    "keggPathways = pd.DataFrame(columns = ['PathwayID', 'Pathway_Name', 'Topic', 'Class'])\n",
    "file = open(urlfilename)\n",
    "superclass = ''\n",
    "class1 = ''\n",
    "pathway = ''\n",
    "pathwayID = ''\n",
    "for line in file:\n",
    "    line = line.strip()\n",
    "    if len(line) > 0:\n",
    "        if line.startswith('+C') or line.startswith('#<h2><a') or line.startswith('!' ):\n",
    "            continue\n",
    "        if line.startswith('A<b>'):\n",
    "            superclass = line.replace('A<b>','').replace('</b>','')\n",
    "#             print(superclass)\n",
    "            continue\n",
    "        if line.startswith('B'):\n",
    "            line = line.replace('B ', '').strip()\n",
    "            class1 = line\n",
    "            continue\n",
    "        if line.startswith('C'):\n",
    "            line = line.replace('C    ', '').strip()\n",
    "            s = line.split('  ')\n",
    "            if len(s) > 1:\n",
    "                pathway = s[1]\n",
    "                pathwayID = s[0]\n",
    "                addDict = {\n",
    "                'PathwayID': pathwayID, \n",
    "                'Pathway_Name': pathway, \n",
    "                'Topic': superclass, \n",
    "                'Class': class1,\n",
    "                'index': pathwayID\n",
    "                      }\n",
    "                dfAdd = pd.DataFrame.from_dict(addDict, orient='index').T\n",
    "                dfAdd = dfAdd.drop(columns=['index'])\n",
    "                keggPathways = pd.concat([keggPathways, dfAdd], ignore_index=True,  )\n",
    "                \n",
    "            else:\n",
    "                print(s)\n",
    "                print(line)"
   ]
  },
  {
   "cell_type": "code",
   "execution_count": 52,
   "id": "e30b94a6",
   "metadata": {
    "scrolled": true
   },
   "outputs": [
    {
     "data": {
      "text/html": [
       "<div>\n",
       "<style scoped>\n",
       "    .dataframe tbody tr th:only-of-type {\n",
       "        vertical-align: middle;\n",
       "    }\n",
       "\n",
       "    .dataframe tbody tr th {\n",
       "        vertical-align: top;\n",
       "    }\n",
       "\n",
       "    .dataframe thead th {\n",
       "        text-align: right;\n",
       "    }\n",
       "</style>\n",
       "<table border=\"1\" class=\"dataframe\">\n",
       "  <thead>\n",
       "    <tr style=\"text-align: right;\">\n",
       "      <th></th>\n",
       "      <th>PathwayID</th>\n",
       "      <th>Pathway_Name</th>\n",
       "      <th>Topic</th>\n",
       "      <th>Class</th>\n",
       "    </tr>\n",
       "  </thead>\n",
       "  <tbody>\n",
       "    <tr>\n",
       "      <th>0</th>\n",
       "      <td>01100</td>\n",
       "      <td>Metabolic pathways</td>\n",
       "      <td>Metabolism</td>\n",
       "      <td>Global and overview maps</td>\n",
       "    </tr>\n",
       "    <tr>\n",
       "      <th>1</th>\n",
       "      <td>01110</td>\n",
       "      <td>Biosynthesis of secondary metabolites</td>\n",
       "      <td>Metabolism</td>\n",
       "      <td>Global and overview maps</td>\n",
       "    </tr>\n",
       "    <tr>\n",
       "      <th>2</th>\n",
       "      <td>01120</td>\n",
       "      <td>Microbial metabolism in diverse environments</td>\n",
       "      <td>Metabolism</td>\n",
       "      <td>Global and overview maps</td>\n",
       "    </tr>\n",
       "    <tr>\n",
       "      <th>3</th>\n",
       "      <td>01200</td>\n",
       "      <td>Carbon metabolism</td>\n",
       "      <td>Metabolism</td>\n",
       "      <td>Global and overview maps</td>\n",
       "    </tr>\n",
       "  </tbody>\n",
       "</table>\n",
       "</div>"
      ],
      "text/plain": [
       "  PathwayID                                  Pathway_Name       Topic  \\\n",
       "0     01100                            Metabolic pathways  Metabolism   \n",
       "1     01110         Biosynthesis of secondary metabolites  Metabolism   \n",
       "2     01120  Microbial metabolism in diverse environments  Metabolism   \n",
       "3     01200                             Carbon metabolism  Metabolism   \n",
       "\n",
       "                      Class  \n",
       "0  Global and overview maps  \n",
       "1  Global and overview maps  \n",
       "2  Global and overview maps  \n",
       "3  Global and overview maps  "
      ]
     },
     "execution_count": 52,
     "metadata": {},
     "output_type": "execute_result"
    }
   ],
   "source": [
    "keggPathways.head(4)"
   ]
  },
  {
   "cell_type": "code",
   "execution_count": 55,
   "id": "f7dcecde",
   "metadata": {},
   "outputs": [],
   "source": [
    "keggPathways.to_csv('/nfs/lab/projects/islet_multiomics_stress_CoCl2/ref/KEGG/KEGG_Pathways_annotations_for_IDs.txt', sep='\\t', header = True, index=False)"
   ]
  },
  {
   "cell_type": "code",
   "execution_count": null,
   "id": "c2c7be79",
   "metadata": {},
   "outputs": [],
   "source": []
  }
 ],
 "metadata": {
  "kernelspec": {
   "display_name": "Python 3 (ipykernel)",
   "language": "python",
   "name": "python3"
  },
  "language_info": {
   "codemirror_mode": {
    "name": "ipython",
    "version": 3
   },
   "file_extension": ".py",
   "mimetype": "text/x-python",
   "name": "python",
   "nbconvert_exporter": "python",
   "pygments_lexer": "ipython3",
   "version": "3.8.15"
  }
 },
 "nbformat": 4,
 "nbformat_minor": 5
}
